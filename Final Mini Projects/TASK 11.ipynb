{
 "cells": [
  {
   "cell_type": "code",
   "execution_count": 1,
   "metadata": {},
   "outputs": [],
   "source": [
    "import pandas as pd\n",
    "import matplotlib.pyplot as plt\n",
    "df_activities = pd.read_csv(\"cardio.csv\",parse_dates=True,index_col = \"Date\")"
   ]
  },
  {
   "cell_type": "markdown",
   "metadata": {},
   "source": [
    "FUN FACTS\n",
    "- Average distance: 11.38 km\n",
    "- Longest distance: 38.32 km\n",
    "- Highest climb: 982 m\n",
    "- Total climb: 57,278 m\n",
    "- Total number of km run: 5,224 km\n",
    "- Total runs: 459\n",
    "- Number of running shoes gone through: 7 pairs\n",
    "\n"
   ]
  },
  {
   "cell_type": "markdown",
   "metadata": {},
   "source": [
    "FORREST RUN FACTS\n",
    "- Average distance: 21.13 km\n",
    "- Total number of km run: 24,700 km\n",
    "- Total runs: 1169\n",
    "- Number of running shoes gone through: ..."
   ]
  },
  {
   "cell_type": "code",
   "execution_count": 3,
   "metadata": {},
   "outputs": [
    {
     "name": "stdout",
     "output_type": "stream",
     "text": [
      "33.0\n"
     ]
    }
   ],
   "source": [
    "average_shoes_lifetime = 5224/7\n",
    "\n",
    "#number of shoes for forest run\n",
    "shoes_for_forrest_run = 24700//average_shoes_lifetime\n",
    "print(shoes_for_forrest_run)"
   ]
  }
 ],
 "metadata": {
  "kernelspec": {
   "display_name": "Python 3",
   "language": "python",
   "name": "python3"
  },
  "language_info": {
   "codemirror_mode": {
    "name": "ipython",
    "version": 3
   },
   "file_extension": ".py",
   "mimetype": "text/x-python",
   "name": "python",
   "nbconvert_exporter": "python",
   "pygments_lexer": "ipython3",
   "version": "3.8.3"
  }
 },
 "nbformat": 4,
 "nbformat_minor": 4
}
